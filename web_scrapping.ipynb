{
 "cells": [
  {
   "cell_type": "code",
   "execution_count": 1,
   "metadata": {
    "collapsed": false
   },
   "outputs": [],
   "source": [
    "import requests\n",
    "from bs4 import BeautifulSoup\n",
    "# from pprint import pprint"
   ]
  },
  {
   "cell_type": "code",
   "execution_count": 10,
   "metadata": {
    "collapsed": false
   },
   "outputs": [
    {
     "data": {
      "text/plain": [
       "'https://www.yelp.com/search?find_loc=New York&find_desc=pizza&'"
      ]
     },
     "execution_count": 10,
     "metadata": {},
     "output_type": "execute_result"
    }
   ],
   "source": [
    "base_url = 'https://www.yelp.com/search?'\n",
    "\n",
    "what = 'pizza'\n",
    "where = 'New York'\n",
    "\n",
    "params = {'find_desc':what,\n",
    "          'find_loc':where}\n",
    "\n",
    "for param, entry in params.items():\n",
    "    base_url = '{0}{1}={2}&'.format(base_url, param, entry)\n",
    "\n",
    "base_url"
   ]
  },
  {
   "cell_type": "code",
   "execution_count": 11,
   "metadata": {
    "collapsed": true
   },
   "outputs": [],
   "source": [
    "request = requests.get(base_url)\n",
    "\n",
    "soup = BeautifulSoup(request.content, 'html.parser')"
   ]
  },
  {
   "cell_type": "code",
   "execution_count": 15,
   "metadata": {
    "collapsed": false
   },
   "outputs": [
    {
     "data": {
      "text/plain": [
       "{1: \"\\n\\n\\n\\n\\n\\n\\n\\n\\n\\n\\n\\n\\n\\n1.         Prince Street Pizza\\n\\n\\n\\n\\n\\n\\n\\n\\n\\n            801 reviews\\n    \\n\\n\\n\\n$\\n\\n\\nPizza\\n\\n\\n\\n\\n\\n\\n\\n\\n\\n\\n\\n                    On the menu: Greene Machine Pizza\\n\\n\\n\\n\\n\\n\\n\\n\\n            Nolita        \\n\\n            27 Prince StNew York, NY 10012\\n        \\nPhone number\\n\\n        (212) 966-4100\\n    \\n\\n\\n\\n\\n\\n\\n\\n\\n\\n\\n\\n\\n                        I'm a big pizza fan and I just love to travel for Pizza. \\xa0But this pizza changed all that. \\xa0 Prince street pizza is hands down my favorite pizza in NY. I pick this over Joe's. \\xa0 I…\\n                        read more\\n\\n\\n\\n\\n\",\n",
       " 2: \"\\n\\n\\n\\n\\n\\n\\n\\n\\n\\n\\n\\n\\n\\n2.         Lombardi’s Pizza\\n\\n\\n\\n\\n\\n\\n\\n\\n\\n            4917 reviews\\n    \\n\\n\\n\\n$$\\n\\n\\nPizza\\n\\n\\n\\n\\n\\n\\n\\n\\n\\n\\n\\n                    On the menu: White Pizza\\n\\n\\n\\n\\n\\n\\n\\n\\n            Nolita        \\n\\n            32 Spring StNew York, NY 10012\\n        \\nPhone number\\n\\n        (212) 941-7994\\n    \\n\\n\\n\\n\\n\\n\\n\\n\\n\\n\\n\\n\\n                        This place is cool. There was a little bit of wait, but it wasn't too bad. But cash only?? That's unheard of! The pizzas here are expensive, so being a cash only place is not a good…\\n                        read more\\n\\n\\n\\n\\n\",\n",
       " 3: '\\n\\n\\n\\n\\n\\n\\n\\n\\n\\n\\n\\n\\n\\n3.         Juliana’s Pizza\\n\\n\\n\\n\\n\\n\\n\\n\\n\\n            1110 reviews\\n    \\n\\n\\n\\n$$\\n\\n\\nPizza\\n\\n\\n\\n\\n\\n\\n\\n\\n\\n\\n\\n                    On the menu: Margherita pizza\\n\\n\\n\\n\\n\\n\\n\\n\\n            DUMBO        \\n\\n            19 Old Fulton StBrooklyn, NY 11201\\n        \\nPhone number\\n\\n        (718) 596-6700\\n    \\n\\n\\n\\n\\n\\n\\n\\n\\n\\n\\n\\n\\n                        Learned about this place from our Tour Guide and boy what a great decision it was to come here, even though it was a bit of a wait. \\xa0They are spinning the dough in the front of the…\\n                        read more\\n\\n\\n\\n\\n',\n",
       " 4: '\\n\\n\\n\\n\\n\\n\\n\\n\\n\\n\\n\\n\\n\\n4.         NY Pizza Suprema\\n\\n\\n\\n\\n\\n\\n\\n\\n\\n            1101 reviews\\n    \\n\\n\\n\\n$\\n\\n\\nPizza\\n\\n\\n\\n\\n\\n\\n\\n\\n\\n            Chelsea, Midtown West        \\n\\n            413 8th AveNew York, NY 10001\\n        \\nPhone number\\n\\n        (212) 594-8939\\n    \\n\\n\\n\\n\\n\\n\\n\\n\\n\\n\\n\\n\\n\\n\\n\\n            This restaurant does food delivery\\n        \\n\\n\\nStart Order\\n\\n\\n\\n\\n\\n\\n\\n\\n\\n\\n\\n\\n\\n\\n\\n\\n\\n\\n\\n                        So glad I found this place. Definitely one of my favorite pizza joints in NY they do justice to NYC pizza. \\xa0a little on the pricier side, but the taste is amazing. the crust is thin…\\n                        read more\\n\\n\\n\\n\\n',\n",
       " 5: '\\n\\n\\n\\n\\n\\n\\n\\n\\n\\n\\n\\n\\n\\n5.         Patzeria Perfect Pizza\\n\\n\\n\\n\\n\\n\\n\\n\\n\\n            1046 reviews\\n    \\n\\n\\n\\n$\\n\\n\\nPizza,\\n                    Diners\\n\\n\\n\\n\\n\\n\\n\\n\\n\\n            Theater District, Midtown West        \\n\\n            231 W 46th StNew York, NY 10036\\n        \\nPhone number\\n\\n        (212) 575-7646\\n    \\n\\n\\n\\n\\n\\n\\n\\n\\n\\n\\n\\n\\n                        Came on a whim because it was close to our hotel and we were HANGRY! .... Oh boy, did we luck out! Pizza was amazing! Ordered sausage and pepperoni, lasagna pizza, and ricotta,…\\n                        read more\\n\\n\\n\\n\\n',\n",
       " 6: \"\\n\\n\\n\\n\\n\\n\\n\\n\\n\\n\\n\\n\\n\\n6.         My Pie\\n\\n\\n\\n\\n\\n\\n\\n\\n\\n            312 reviews\\n    \\n\\n\\n\\n$\\n\\n\\nItalian,\\n                    Pizza\\n\\n\\n\\n\\n\\n\\n\\n\\n\\n            Midtown East        \\n\\n            696 Lexington AveNew York, NY 10022\\n        \\nPhone number\\n\\n        (212) 317-1850\\n    \\n\\n\\n\\n\\n\\n\\n\\n\\n\\n\\n\\n\\n                        Thank God for my girlfriend's Gluten Allergy. I never thought I would say that, but we tried this place out after seeing on Yelp they offered GF Pizza. \\xa0 I stuck to regular pizza,…\\n                        read more\\n\\n\\n\\n\\n\",\n",
       " 7: '\\n\\n\\n\\n\\n\\n\\n\\n\\n\\n\\n\\n\\n\\n7.         Adrienne’s Pizzabar\\n\\n\\n\\n\\n\\n\\n\\n\\n\\n            1072 reviews\\n    \\n\\n\\n\\n$$\\n\\n\\nPizza,\\n                    Italian\\n\\n\\n\\n\\n\\n\\n\\n\\n\\n            Financial District        \\n\\n            54 Stone StNew York, NY 10004\\n        \\nPhone number\\n\\n        (212) 248-3838\\n    \\n\\n\\n\\n\\n\\n\\n\\n\\n\\n\\n\\n\\n                        Consistently good pizza in the Financial District (FiDi). \\xa0This place brings back delicious memories. \\xa0I moved to NYC in June 2009 and scored an incredible deal on a Wall Street…\\n                        read more\\n\\n\\n\\n\\n',\n",
       " 8: \"\\n\\n\\n\\n\\n\\n\\n\\n\\n\\n\\n\\n\\n\\n8.         PN Wood Fired Pizza\\n\\n\\n\\n\\n\\n\\n\\n\\n\\n            61 reviews\\n    \\n\\n\\n\\n$$\\n\\n\\nPizza\\n\\n\\n\\n\\n\\n\\n\\n\\n\\n            Flatiron        \\n\\n            2 W 28th StNew York, NY 10001\\n        \\nPhone number\\n\\n        (646) 964-4834\\n    \\n\\n\\n\\n\\n\\n\\n\\n\\n\\n\\n\\n\\n                        I'd walked in only 2 hours before to book reservations for 5 people. Everyone was very helpful and kind at this restaurant right from the very beginning. We live on the west coast,…\\n                        read more\\n\\n\\n\\n\\n\",\n",
       " 9: '\\n\\n\\n\\n\\n\\n\\n\\n\\n\\n\\n\\n\\n\\n9.         Grimaldi’s\\n\\n\\n\\n\\n\\n\\n\\n\\n\\n            3961 reviews\\n    \\n\\n\\n\\n$$\\n\\n\\nPizza\\n\\n\\n\\n\\n\\n\\n\\n\\n\\n            DUMBO        \\n\\n            1 Front StBrooklyn, NY 11201\\n        \\nPhone number\\n\\n        (718) 858-4300\\n    \\n\\n\\n\\n\\n\\n\\n\\n\\n\\n\\n\\n\\n                        Walked across the Brooklyn Bridge to get here. \\xa0There was a line out the door. Although there was no sign-in system, we were unsure of how the seating worked. Waited in line and a…\\n                        read more\\n\\n\\n\\n\\n',\n",
       " 10: '\\n\\n\\n\\n\\n\\n\\n\\n\\n\\n\\n\\n\\n\\n10.         Joe’s Pizza\\n\\n\\n\\n\\n\\n\\n\\n\\n\\n            1458 reviews\\n    \\n\\n\\n\\n$\\n\\n\\nPizza\\n\\n\\n\\n\\n\\n\\n\\n\\n\\n            West Village        \\n\\n            7 Carmine StNew York, NY 10014\\n        \\nPhone number\\n\\n        (212) 366-1182\\n    \\n\\n\\n\\n'}"
      ]
     },
     "execution_count": 15,
     "metadata": {},
     "output_type": "execute_result"
    }
   ],
   "source": [
    "listings = {}\n",
    "\n",
    "i = 1\n",
    "for record in soup.find_all('li', 'regular-search-result'):\n",
    "    listings[i] = record.text\n",
    "    i += 1\n",
    "    \n",
    "listings"
   ]
  },
  {
   "cell_type": "code",
   "execution_count": 16,
   "metadata": {
    "collapsed": false
   },
   "outputs": [
    {
     "data": {
      "text/plain": [
       "{1: \"1. Prince Street Pizza 801 reviews $ Pizza On the menu: Greene Machine Pizza Nolita 27 Prince StNew York, NY 10012 Phone number (212) 966-4100 I'm a big pizza fan and I just love to travel for Pizza. But this pizza changed all that. Prince street pizza is hands down my favorite pizza in NY. I pick this over Joe's. I… read more\",\n",
       " 2: \"2. Lombardi’s Pizza 4917 reviews $$ Pizza On the menu: White Pizza Nolita 32 Spring StNew York, NY 10012 Phone number (212) 941-7994 This place is cool. There was a little bit of wait, but it wasn't too bad. But cash only?? That's unheard of! The pizzas here are expensive, so being a cash only place is not a good… read more\",\n",
       " 3: '3. Juliana’s Pizza 1110 reviews $$ Pizza On the menu: Margherita pizza DUMBO 19 Old Fulton StBrooklyn, NY 11201 Phone number (718) 596-6700 Learned about this place from our Tour Guide and boy what a great decision it was to come here, even though it was a bit of a wait. They are spinning the dough in the front of the… read more',\n",
       " 4: '4. NY Pizza Suprema 1101 reviews $ Pizza Chelsea, Midtown West 413 8th AveNew York, NY 10001 Phone number (212) 594-8939 This restaurant does food delivery Start Order So glad I found this place. Definitely one of my favorite pizza joints in NY they do justice to NYC pizza. a little on the pricier side, but the taste is amazing. the crust is thin… read more',\n",
       " 5: '5. Patzeria Perfect Pizza 1046 reviews $ Pizza, Diners Theater District, Midtown West 231 W 46th StNew York, NY 10036 Phone number (212) 575-7646 Came on a whim because it was close to our hotel and we were HANGRY! .... Oh boy, did we luck out! Pizza was amazing! Ordered sausage and pepperoni, lasagna pizza, and ricotta,… read more',\n",
       " 6: \"6. My Pie 312 reviews $ Italian, Pizza Midtown East 696 Lexington AveNew York, NY 10022 Phone number (212) 317-1850 Thank God for my girlfriend's Gluten Allergy. I never thought I would say that, but we tried this place out after seeing on Yelp they offered GF Pizza. I stuck to regular pizza,… read more\",\n",
       " 7: '7. Adrienne’s Pizzabar 1072 reviews $$ Pizza, Italian Financial District 54 Stone StNew York, NY 10004 Phone number (212) 248-3838 Consistently good pizza in the Financial District (FiDi). This place brings back delicious memories. I moved to NYC in June 2009 and scored an incredible deal on a Wall Street… read more',\n",
       " 8: \"8. PN Wood Fired Pizza 61 reviews $$ Pizza Flatiron 2 W 28th StNew York, NY 10001 Phone number (646) 964-4834 I'd walked in only 2 hours before to book reservations for 5 people. Everyone was very helpful and kind at this restaurant right from the very beginning. We live on the west coast,… read more\",\n",
       " 9: '9. Grimaldi’s 3961 reviews $$ Pizza DUMBO 1 Front StBrooklyn, NY 11201 Phone number (718) 858-4300 Walked across the Brooklyn Bridge to get here. There was a line out the door. Although there was no sign-in system, we were unsure of how the seating worked. Waited in line and a… read more',\n",
       " 10: '10. Joe’s Pizza 1458 reviews $ Pizza West Village 7 Carmine StNew York, NY 10014 Phone number (212) 366-1182'}"
      ]
     },
     "execution_count": 16,
     "metadata": {},
     "output_type": "execute_result"
    }
   ],
   "source": [
    "clean_listings = {index:' '.join(result.split()) for index, result in listings.items()}\n",
    "clean_listings"
   ]
  },
  {
   "cell_type": "code",
   "execution_count": 14,
   "metadata": {
    "collapsed": true
   },
   "outputs": [],
   "source": [
    "# pprint(clean_listings)"
   ]
  },
  {
   "cell_type": "code",
   "execution_count": 19,
   "metadata": {
    "collapsed": false
   },
   "outputs": [
    {
     "data": {
      "text/plain": [
       "'/search?find_desc=pizza&find_loc=New+York&start=10'"
      ]
     },
     "execution_count": 19,
     "metadata": {},
     "output_type": "execute_result"
    }
   ],
   "source": [
    "soup.find_all('a', 'u-decoration-none next pagination-links_anchor', href = True)[0]['href']"
   ]
  },
  {
   "cell_type": "code",
   "execution_count": 20,
   "metadata": {
    "collapsed": true
   },
   "outputs": [],
   "source": [
    "BASE = 'https://www.yelp.com/'"
   ]
  },
  {
   "cell_type": "code",
   "execution_count": 21,
   "metadata": {
    "collapsed": false
   },
   "outputs": [
    {
     "data": {
      "text/plain": [
       "'https://www.yelp.com/search?find_loc=New York&find_desc=pizza&&start=10'"
      ]
     },
     "execution_count": 21,
     "metadata": {},
     "output_type": "execute_result"
    }
   ],
   "source": [
    "next_page = base_url + '&start=10'\n",
    "next_page"
   ]
  },
  {
   "cell_type": "code",
   "execution_count": null,
   "metadata": {
    "collapsed": true
   },
   "outputs": [],
   "source": []
  }
 ],
 "metadata": {
  "kernelspec": {
   "display_name": "Python 3",
   "language": "python",
   "name": "python3"
  },
  "language_info": {
   "codemirror_mode": {
    "name": "ipython",
    "version": 3
   },
   "file_extension": ".py",
   "mimetype": "text/x-python",
   "name": "python",
   "nbconvert_exporter": "python",
   "pygments_lexer": "ipython3",
   "version": "3.5.2"
  }
 },
 "nbformat": 4,
 "nbformat_minor": 1
}
